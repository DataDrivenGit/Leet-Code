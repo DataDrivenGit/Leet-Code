{
 "cells": [
  {
   "cell_type": "markdown",
   "metadata": {},
   "source": [
    "# Happy Number\n",
    "Solution\n",
    "Write an algorithm to determine if a number n is \"happy\".\n",
    "\n",
    "A happy number is a number defined by the following process: Starting with any positive integer, replace the number by the sum of the squares of its digits, and repeat the process until the number equals 1 (where it will stay), or it loops endlessly in a cycle which does not include 1. Those numbers for which this process ends in 1 are happy numbers.\n",
    "\n",
    "Return True if n is a happy number, and False if not.\n",
    "\n",
    "Example: \n",
    "\n",
    "Input: 19\n",
    "Output: true\n",
    "Explanation: \n",
    "12 + 92 = 82\n",
    "82 + 22 = 68\n",
    "62 + 82 = 100\n",
    "12 + 02 + 02 = 1"
   ]
  },
  {
   "cell_type": "code",
   "execution_count": null,
   "metadata": {},
   "outputs": [],
   "source": [
    "#server solution\n",
    "class Solution:\n",
    "    def isHappy(self, n: int) -> bool:\n",
    "        sum = 0;\n",
    "        temp = [];\n",
    "\n",
    "        while 1:\n",
    "           for i in str(n): \n",
    "              sum += int(i)**2         \n",
    "           n = sum\n",
    "           if(n in temp):\n",
    "               break\n",
    "           else:\n",
    "               temp.append(n)\n",
    "           sum = 0        \n",
    "\n",
    "        if(n==1):\n",
    "           return True\n",
    "        else:\n",
    "           return False\n"
   ]
  },
  {
   "cell_type": "code",
   "execution_count": 1,
   "metadata": {},
   "outputs": [],
   "source": [
    "def isHappy(n) -> bool:\n",
    "        sum = 0;\n",
    "        temp = [];\n",
    "\n",
    "        while 1:\n",
    "           for i in str(n): \n",
    "              sum += int(i)**2         \n",
    "           n = sum\n",
    "           if(n in temp):\n",
    "               break\n",
    "           else:\n",
    "               temp.append(n)\n",
    "           sum = 0        \n",
    "\n",
    "        if(n==1):\n",
    "           return True\n",
    "        else:\n",
    "           return False\n"
   ]
  },
  {
   "cell_type": "code",
   "execution_count": 8,
   "metadata": {},
   "outputs": [
    {
     "name": "stdout",
     "output_type": "stream",
     "text": [
      "True\n",
      "-------------\n",
      "False\n",
      "-------------\n",
      "True\n"
     ]
    }
   ],
   "source": [
    "arr = 19\n",
    "print(isHappy(arr))\n",
    "print(\"-------------\")\n",
    "arr=143 \n",
    "print(isHappy(arr1))\n",
    "print(\"-------------\")\n",
    "arr2=23\n",
    "print(isHappy(arr2))"
   ]
  }
 ],
 "metadata": {
  "kernelspec": {
   "display_name": "Python 3",
   "language": "python",
   "name": "python3"
  },
  "language_info": {
   "codemirror_mode": {
    "name": "ipython",
    "version": 3
   },
   "file_extension": ".py",
   "mimetype": "text/x-python",
   "name": "python",
   "nbconvert_exporter": "python",
   "pygments_lexer": "ipython3",
   "version": "3.6.8"
  }
 },
 "nbformat": 4,
 "nbformat_minor": 2
}
